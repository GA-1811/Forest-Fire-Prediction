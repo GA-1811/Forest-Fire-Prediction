import pandas as pd
import glob

csv_files = glob.glob("*.csv")

df_list = [pd.read_csv(file) for file in csv_files]
df = pd.concat(df_list, ignore_index=True)

df = df[
    (df['latitude'] >= 6) & (df['latitude'] <= 37) &
    (df['longitude'] >= 68) & (df['longitude'] <= 97)
]

df['acq_date'] = pd.to_datetime(df['acq_date'])

df['acq_time'] = df['acq_time'].astype(str).str.zfill(4)
df['hour'] = df['acq_time'].str[:2]
df['minute'] = df['acq_time'].str[2:]

df['acq_datetime'] = pd.to_datetime(
    df['acq_date'].dt.strftime('%Y-%m-%d') + ' ' + df['hour'] + ':' + df['minute'],
    format='%Y-%m-%d %H:%M'
).dt.tz_localize('UTC')

df['acq_datetime_IST'] = df['acq_datetime'].dt.tz_convert('Asia/Kolkata')

df.drop(columns=['hour', 'minute'], inplace=True)

df.to_csv("Cleaned_India_ForestFires_2019_2023.csv", index=False)

print(df.shape)
print(df.describe())
print(df['confidence'].value_counts())
print(df['brightness'].hist(bins=30))

df['month'] = df['acq_datetime_IST'].dt.month
df['year'] = df['acq_datetime_IST'].dt.year

# Monthly fire frequency
monthly_counts = df.groupby(['year', 'month']).size().unstack()
monthly_counts.plot(kind='bar', stacked=True, figsize=(12,6))

import folium
from folium.plugins import HeatMap

# Base map centered on India
map_fire = folium.Map(location=[22, 78], zoom_start=5)

# HeatMap
heat_data = [[row['latitude'], row['longitude']] for index, row in df.iterrows()]
HeatMap(heat_data).add_to(map_fire)

map_fire.save('India_Fire_Heatmap.html') 

import seaborn as sns
import matplotlib.pyplot as plt

sns.scatterplot(x='brightness', y='frp', hue='confidence', data=df)
plt.title('Brightness vs Fire Radiative Power (FRP)')
plt.show()

import pandas as pd
from sklearn.model_selection import train_test_split
from sklearn.ensemble import RandomForestClassifier
from sklearn.metrics import classification_report, confusion_matrix
import matplotlib.pyplot as plt
import seaborn as sns

df = pd.read_csv('Cleaned_India_ForestFires_2022_2023.csv')

df['month'] = pd.to_datetime(df['acq_datetime_IST']).dt.month
df['hour'] = pd.to_datetime(df['acq_datetime_IST']).dt.hour

def categorize_risk(frp):
    if frp < 20:
        return 0  # Low Risk
    elif frp < 100:
        return 1  # Medium Risk
    else:
        return 2  # High Risk

df['fire_risk'] = df['frp'].apply(categorize_risk)

features = ['brightness', 'confidence', 'latitude', 'longitude', 'month', 'hour']
target = 'fire_risk'

X = df[features]
y = df[target]

X_train, X_test, y_train, y_test = train_test_split(X, y, test_size=0.2, random_state=42)

model = RandomForestClassifier(n_estimators=100, random_state=42)
model.fit(X_train, y_train)

y_pred = model.predict(X_test)

print("Classification Report:")
print(classification_report(y_test, y_pred))

print("Confusion Matrix:")
cm = confusion_matrix(y_test, y_pred)
sns.heatmap(cm, annot=True, fmt='d', cmap='YlOrRd')
plt.xlabel("Predicted")
plt.ylabel("Actual")
plt.title("Fire Risk Classification Confusion Matrix")
plt.show()

